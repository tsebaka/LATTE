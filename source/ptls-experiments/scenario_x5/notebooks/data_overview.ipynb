{
 "cells": [
  {
   "cell_type": "code",
   "execution_count": 3,
   "metadata": {},
   "outputs": [
    {
     "name": "stdout",
     "output_type": "stream",
     "text": [
      "-rw-rw-r-- 1 ivan ivan  21M Dec  2 19:40 ../data/clients.csv\r\n",
      "-rw-rw-r-- 1 ivan ivan 3.8M Dec  2 19:40 ../data/products.csv\r\n",
      "-rw-rw-r-- 1 ivan ivan 4.2G Dec  2 19:49 ../data/purchases.csv\r\n",
      "-rw-rw-r-- 1 ivan ivan 5.8M Dec  2 19:40 ../data/uplift_sample_submission.csv\r\n",
      "-rw-rw-r-- 1 ivan ivan 2.1M Dec  2 19:40 ../data/uplift_test.csv\r\n",
      "-rw-rw-r-- 1 ivan ivan 2.9M Dec  2 19:40 ../data/uplift_train.csv\r\n"
     ]
    }
   ],
   "source": [
    "!ls -lh ../data/*.csv"
   ]
  },
  {
   "cell_type": "code",
   "execution_count": 7,
   "metadata": {},
   "outputs": [
    {
     "name": "stdout",
     "output_type": "stream",
     "text": [
      "client_id,uplift\r\n",
      "008fb49e3a,0.1149912020897228\r\n",
      "0095340acc,0.8353208872466903\r\n",
      "015c0b4d79,0.3085840952650095\r\n"
     ]
    }
   ],
   "source": [
    "!head -n 4 ../data/uplift_sample_submission.csv"
   ]
  },
  {
   "cell_type": "code",
   "execution_count": 154,
   "metadata": {},
   "outputs": [],
   "source": [
    "import numpy as np\n",
    "import pandas as pd"
   ]
  },
  {
   "cell_type": "code",
   "execution_count": 16,
   "metadata": {},
   "outputs": [],
   "source": [
    "import matplotlib.pyplot as plt"
   ]
  },
  {
   "cell_type": "markdown",
   "metadata": {},
   "source": [
    "## Read"
   ]
  },
  {
   "cell_type": "code",
   "execution_count": 5,
   "metadata": {},
   "outputs": [],
   "source": [
    "df_clients = pd.read_csv('../data/clients.csv')\n",
    "df_products = pd.read_csv('../data/products.csv')\n",
    "df_purchases = pd.read_csv('../data/purchases.csv')"
   ]
  },
  {
   "cell_type": "code",
   "execution_count": 8,
   "metadata": {},
   "outputs": [],
   "source": [
    "df_train = pd.read_csv('../data/uplift_train.csv')"
   ]
  },
  {
   "cell_type": "markdown",
   "metadata": {},
   "source": [
    "## Transformations"
   ]
  },
  {
   "cell_type": "code",
   "execution_count": 85,
   "metadata": {},
   "outputs": [],
   "source": [
    "df_purchases['transaction_datetime'] = pd.to_datetime(df_purchases['transaction_datetime'])"
   ]
  },
  {
   "cell_type": "code",
   "execution_count": 96,
   "metadata": {},
   "outputs": [],
   "source": [
    "df_purchases['transaction_month'] = \\\n",
    "    df_purchases['transaction_datetime'].dt.floor('D') - \\\n",
    "    pd.to_timedelta(df_purchases['transaction_datetime'].dt.day - 1, 'D')"
   ]
  },
  {
   "cell_type": "markdown",
   "metadata": {},
   "source": [
    "## Train target"
   ]
  },
  {
   "cell_type": "code",
   "execution_count": 14,
   "metadata": {},
   "outputs": [
    {
     "data": {
      "text/html": [
       "<div>\n",
       "<style scoped>\n",
       "    .dataframe tbody tr th:only-of-type {\n",
       "        vertical-align: middle;\n",
       "    }\n",
       "\n",
       "    .dataframe tbody tr th {\n",
       "        vertical-align: top;\n",
       "    }\n",
       "\n",
       "    .dataframe thead tr th {\n",
       "        text-align: left;\n",
       "    }\n",
       "\n",
       "    .dataframe thead tr:last-of-type th {\n",
       "        text-align: right;\n",
       "    }\n",
       "</style>\n",
       "<table border=\"1\" class=\"dataframe\">\n",
       "  <thead>\n",
       "    <tr>\n",
       "      <th></th>\n",
       "      <th colspan=\"2\" halign=\"left\">cnt</th>\n",
       "    </tr>\n",
       "    <tr>\n",
       "      <th>target</th>\n",
       "      <th>0</th>\n",
       "      <th>1</th>\n",
       "    </tr>\n",
       "    <tr>\n",
       "      <th>treatment_flg</th>\n",
       "      <th></th>\n",
       "      <th></th>\n",
       "    </tr>\n",
       "  </thead>\n",
       "  <tbody>\n",
       "    <tr>\n",
       "      <th>0</th>\n",
       "      <td>39695</td>\n",
       "      <td>60363</td>\n",
       "    </tr>\n",
       "    <tr>\n",
       "      <th>1</th>\n",
       "      <td>36342</td>\n",
       "      <td>63639</td>\n",
       "    </tr>\n",
       "  </tbody>\n",
       "</table>\n",
       "</div>"
      ],
      "text/plain": [
       "                 cnt       \n",
       "target             0      1\n",
       "treatment_flg              \n",
       "0              39695  60363\n",
       "1              36342  63639"
      ]
     },
     "execution_count": 14,
     "metadata": {},
     "output_type": "execute_result"
    }
   ],
   "source": [
    "df_train.assign(cnt=1).pivot_table(index='treatment_flg', columns='target', aggfunc='sum')"
   ]
  },
  {
   "cell_type": "markdown",
   "metadata": {},
   "source": [
    "## Clients"
   ]
  },
  {
   "cell_type": "code",
   "execution_count": 15,
   "metadata": {},
   "outputs": [
    {
     "data": {
      "text/html": [
       "<div>\n",
       "<style scoped>\n",
       "    .dataframe tbody tr th:only-of-type {\n",
       "        vertical-align: middle;\n",
       "    }\n",
       "\n",
       "    .dataframe tbody tr th {\n",
       "        vertical-align: top;\n",
       "    }\n",
       "\n",
       "    .dataframe thead th {\n",
       "        text-align: right;\n",
       "    }\n",
       "</style>\n",
       "<table border=\"1\" class=\"dataframe\">\n",
       "  <thead>\n",
       "    <tr style=\"text-align: right;\">\n",
       "      <th></th>\n",
       "      <th>client_id</th>\n",
       "      <th>first_issue_date</th>\n",
       "      <th>first_redeem_date</th>\n",
       "      <th>age</th>\n",
       "      <th>gender</th>\n",
       "    </tr>\n",
       "  </thead>\n",
       "  <tbody>\n",
       "    <tr>\n",
       "      <th>0</th>\n",
       "      <td>000012768d</td>\n",
       "      <td>2017-08-05 15:40:48</td>\n",
       "      <td>2018-01-04 19:30:07</td>\n",
       "      <td>45</td>\n",
       "      <td>U</td>\n",
       "    </tr>\n",
       "    <tr>\n",
       "      <th>1</th>\n",
       "      <td>000036f903</td>\n",
       "      <td>2017-04-10 13:54:23</td>\n",
       "      <td>2017-04-23 12:37:56</td>\n",
       "      <td>72</td>\n",
       "      <td>F</td>\n",
       "    </tr>\n",
       "    <tr>\n",
       "      <th>2</th>\n",
       "      <td>000048b7a6</td>\n",
       "      <td>2018-12-15 13:33:11</td>\n",
       "      <td>NaN</td>\n",
       "      <td>68</td>\n",
       "      <td>F</td>\n",
       "    </tr>\n",
       "    <tr>\n",
       "      <th>3</th>\n",
       "      <td>000073194a</td>\n",
       "      <td>2017-05-23 12:56:14</td>\n",
       "      <td>2017-11-24 11:18:01</td>\n",
       "      <td>60</td>\n",
       "      <td>F</td>\n",
       "    </tr>\n",
       "    <tr>\n",
       "      <th>4</th>\n",
       "      <td>00007c7133</td>\n",
       "      <td>2017-05-22 16:17:08</td>\n",
       "      <td>2018-12-31 17:17:33</td>\n",
       "      <td>67</td>\n",
       "      <td>U</td>\n",
       "    </tr>\n",
       "  </tbody>\n",
       "</table>\n",
       "</div>"
      ],
      "text/plain": [
       "    client_id     first_issue_date    first_redeem_date  age gender\n",
       "0  000012768d  2017-08-05 15:40:48  2018-01-04 19:30:07   45      U\n",
       "1  000036f903  2017-04-10 13:54:23  2017-04-23 12:37:56   72      F\n",
       "2  000048b7a6  2018-12-15 13:33:11                  NaN   68      F\n",
       "3  000073194a  2017-05-23 12:56:14  2017-11-24 11:18:01   60      F\n",
       "4  00007c7133  2017-05-22 16:17:08  2018-12-31 17:17:33   67      U"
      ]
     },
     "execution_count": 15,
     "metadata": {},
     "output_type": "execute_result"
    }
   ],
   "source": [
    "df_clients.head()"
   ]
  },
  {
   "cell_type": "code",
   "execution_count": 53,
   "metadata": {},
   "outputs": [
    {
     "data": {
      "text/plain": [
       "400162"
      ]
     },
     "execution_count": 53,
     "metadata": {},
     "output_type": "execute_result"
    }
   ],
   "source": [
    "df_clients['client_id'].nunique()"
   ]
  },
  {
   "cell_type": "code",
   "execution_count": 20,
   "metadata": {},
   "outputs": [
    {
     "data": {
      "text/plain": [
       "<matplotlib.axes._subplots.AxesSubplot at 0x7fb56330f1d0>"
      ]
     },
     "execution_count": 20,
     "metadata": {},
     "output_type": "execute_result"
    },
    {
     "data": {
      "image/png": "[encoded data removed]",
      "text/plain": [
       "<Figure size 864x216 with 1 Axes>"
      ]
     },
     "metadata": {
      "needs_background": "light"
     },
     "output_type": "display_data"
    }
   ],
   "source": [
    "df_clients['age'].hist(bins=20, figsize=(12, 3))"
   ]
  },
  {
   "cell_type": "code",
   "execution_count": 166,
   "metadata": {},
   "outputs": [
    {
     "data": {
      "text/plain": [
       "<matplotlib.axes._subplots.AxesSubplot at 0x7fb49065ff60>"
      ]
     },
     "execution_count": 166,
     "metadata": {},
     "output_type": "execute_result"
    },
    {
     "data": {
      "image/png": "[encoded data removed]",
      "text/plain": [
       "<Figure size 864x216 with 1 Axes>"
      ]
     },
     "metadata": {
      "needs_background": "light"
     },
     "output_type": "display_data"
    }
   ],
   "source": [
    "df_clients['age'].clip(0, 100).hist(bins=20, figsize=(12, 3))"
   ]
  },
  {
   "cell_type": "code",
   "execution_count": 167,
   "metadata": {},
   "outputs": [
    {
     "data": {
      "text/plain": [
       "0.25    34.0\n",
       "0.50    45.0\n",
       "0.75    59.0\n",
       "Name: age, dtype: float64"
      ]
     },
     "execution_count": 167,
     "metadata": {},
     "output_type": "execute_result"
    }
   ],
   "source": [
    "df_clients['age'].quantile([0.25, 0.50, 0.75])"
   ]
  },
  {
   "cell_type": "code",
   "execution_count": 21,
   "metadata": {},
   "outputs": [
    {
     "data": {
      "text/plain": [
       "U    185706\n",
       "F    147649\n",
       "M     66807\n",
       "Name: gender, dtype: int64"
      ]
     },
     "execution_count": 21,
     "metadata": {},
     "output_type": "execute_result"
    }
   ],
   "source": [
    "df_clients['gender'].value_counts()"
   ]
  },
  {
   "cell_type": "code",
   "execution_count": 190,
   "metadata": {},
   "outputs": [],
   "source": [
    "df_clients['age_bin'] = np.where(\n",
    "    (df_clients['age'] < 10) | (df_clients['age'] > 90), -1, np.where(\n",
    "        df_clients['age'] < 35, 0, np.where(\n",
    "            df_clients['age'] < 45, 1, np.where(\n",
    "                df_clients['age'] < 60, 2, 3))))"
   ]
  },
  {
   "cell_type": "code",
   "execution_count": 191,
   "metadata": {},
   "outputs": [
    {
     "data": {
      "text/plain": [
       "-1      1494\n",
       " 0    108564\n",
       " 1     85019\n",
       " 2    107763\n",
       " 3     97322\n",
       "Name: age_bin, dtype: int64"
      ]
     },
     "execution_count": 191,
     "metadata": {},
     "output_type": "execute_result"
    }
   ],
   "source": [
    "df_clients['age_bin'].value_counts().sort_index()"
   ]
  },
  {
   "cell_type": "code",
   "execution_count": 192,
   "metadata": {},
   "outputs": [
    {
     "data": {
      "text/html": [
       "<div>\n",
       "<style scoped>\n",
       "    .dataframe tbody tr th:only-of-type {\n",
       "        vertical-align: middle;\n",
       "    }\n",
       "\n",
       "    .dataframe tbody tr th {\n",
       "        vertical-align: top;\n",
       "    }\n",
       "\n",
       "    .dataframe thead th {\n",
       "        text-align: right;\n",
       "    }\n",
       "</style>\n",
       "<table border=\"1\" class=\"dataframe\">\n",
       "  <thead>\n",
       "    <tr style=\"text-align: right;\">\n",
       "      <th>gender</th>\n",
       "      <th>F</th>\n",
       "      <th>M</th>\n",
       "      <th>U</th>\n",
       "    </tr>\n",
       "    <tr>\n",
       "      <th>age_bin</th>\n",
       "      <th></th>\n",
       "      <th></th>\n",
       "      <th></th>\n",
       "    </tr>\n",
       "  </thead>\n",
       "  <tbody>\n",
       "    <tr>\n",
       "      <th>-1</th>\n",
       "      <td>73</td>\n",
       "      <td>454</td>\n",
       "      <td>967</td>\n",
       "    </tr>\n",
       "    <tr>\n",
       "      <th>0</th>\n",
       "      <td>37681</td>\n",
       "      <td>25143</td>\n",
       "      <td>45740</td>\n",
       "    </tr>\n",
       "    <tr>\n",
       "      <th>1</th>\n",
       "      <td>28498</td>\n",
       "      <td>14720</td>\n",
       "      <td>41801</td>\n",
       "    </tr>\n",
       "    <tr>\n",
       "      <th>2</th>\n",
       "      <td>38966</td>\n",
       "      <td>15256</td>\n",
       "      <td>53541</td>\n",
       "    </tr>\n",
       "    <tr>\n",
       "      <th>3</th>\n",
       "      <td>42431</td>\n",
       "      <td>11234</td>\n",
       "      <td>43657</td>\n",
       "    </tr>\n",
       "  </tbody>\n",
       "</table>\n",
       "</div>"
      ],
      "text/plain": [
       "gender       F      M      U\n",
       "age_bin                     \n",
       "-1          73    454    967\n",
       " 0       37681  25143  45740\n",
       " 1       28498  14720  41801\n",
       " 2       38966  15256  53541\n",
       " 3       42431  11234  43657"
      ]
     },
     "execution_count": 192,
     "metadata": {},
     "output_type": "execute_result"
    }
   ],
   "source": [
    "df_clients.groupby(['age_bin', 'gender'])['client_id'].count().unstack()"
   ]
  },
  {
   "cell_type": "code",
   "execution_count": null,
   "metadata": {},
   "outputs": [],
   "source": []
  },
  {
   "cell_type": "markdown",
   "metadata": {},
   "source": [
    "## Products"
   ]
  },
  {
   "cell_type": "code",
   "execution_count": 26,
   "metadata": {},
   "outputs": [
    {
     "data": {
      "text/html": [
       "<div>\n",
       "<style scoped>\n",
       "    .dataframe tbody tr th:only-of-type {\n",
       "        vertical-align: middle;\n",
       "    }\n",
       "\n",
       "    .dataframe tbody tr th {\n",
       "        vertical-align: top;\n",
       "    }\n",
       "\n",
       "    .dataframe thead th {\n",
       "        text-align: right;\n",
       "    }\n",
       "</style>\n",
       "<table border=\"1\" class=\"dataframe\">\n",
       "  <thead>\n",
       "    <tr style=\"text-align: right;\">\n",
       "      <th></th>\n",
       "      <th>product_id</th>\n",
       "      <th>level_1</th>\n",
       "      <th>level_2</th>\n",
       "      <th>level_3</th>\n",
       "      <th>level_4</th>\n",
       "      <th>segment_id</th>\n",
       "      <th>brand_id</th>\n",
       "      <th>vendor_id</th>\n",
       "      <th>netto</th>\n",
       "      <th>is_own_trademark</th>\n",
       "      <th>is_alcohol</th>\n",
       "    </tr>\n",
       "  </thead>\n",
       "  <tbody>\n",
       "    <tr>\n",
       "      <th>0</th>\n",
       "      <td>0003020d3c</td>\n",
       "      <td>c3d3a8e8c6</td>\n",
       "      <td>c2a3ea8d5e</td>\n",
       "      <td>b7cda0ec0c</td>\n",
       "      <td>6376f2a852</td>\n",
       "      <td>123.0</td>\n",
       "      <td>394a54a7c1</td>\n",
       "      <td>9eaff48661</td>\n",
       "      <td>0.400</td>\n",
       "      <td>0</td>\n",
       "      <td>0</td>\n",
       "    </tr>\n",
       "    <tr>\n",
       "      <th>1</th>\n",
       "      <td>0003870676</td>\n",
       "      <td>e344ab2e71</td>\n",
       "      <td>52f13dac0c</td>\n",
       "      <td>d3cfe81323</td>\n",
       "      <td>6dc544533f</td>\n",
       "      <td>105.0</td>\n",
       "      <td>acd3dd483f</td>\n",
       "      <td>10486c3cf0</td>\n",
       "      <td>0.680</td>\n",
       "      <td>0</td>\n",
       "      <td>0</td>\n",
       "    </tr>\n",
       "    <tr>\n",
       "      <th>2</th>\n",
       "      <td>0003ceaf69</td>\n",
       "      <td>c3d3a8e8c6</td>\n",
       "      <td>f2333c90fb</td>\n",
       "      <td>419bc5b424</td>\n",
       "      <td>f6148afbc0</td>\n",
       "      <td>271.0</td>\n",
       "      <td>f597581079</td>\n",
       "      <td>764e660dda</td>\n",
       "      <td>0.500</td>\n",
       "      <td>0</td>\n",
       "      <td>0</td>\n",
       "    </tr>\n",
       "    <tr>\n",
       "      <th>3</th>\n",
       "      <td>000701e093</td>\n",
       "      <td>ec62ce61e3</td>\n",
       "      <td>4202626fcb</td>\n",
       "      <td>88a515c084</td>\n",
       "      <td>48cf3d488f</td>\n",
       "      <td>172.0</td>\n",
       "      <td>54a90fe769</td>\n",
       "      <td>03c2d70bad</td>\n",
       "      <td>0.112</td>\n",
       "      <td>0</td>\n",
       "      <td>0</td>\n",
       "    </tr>\n",
       "    <tr>\n",
       "      <th>4</th>\n",
       "      <td>0007149564</td>\n",
       "      <td>e344ab2e71</td>\n",
       "      <td>52f13dac0c</td>\n",
       "      <td>d3cfe81323</td>\n",
       "      <td>6dc544533f</td>\n",
       "      <td>105.0</td>\n",
       "      <td>63417fe1f3</td>\n",
       "      <td>f329130198</td>\n",
       "      <td>0.600</td>\n",
       "      <td>0</td>\n",
       "      <td>0</td>\n",
       "    </tr>\n",
       "    <tr>\n",
       "      <th>...</th>\n",
       "      <td>...</td>\n",
       "      <td>...</td>\n",
       "      <td>...</td>\n",
       "      <td>...</td>\n",
       "      <td>...</td>\n",
       "      <td>...</td>\n",
       "      <td>...</td>\n",
       "      <td>...</td>\n",
       "      <td>...</td>\n",
       "      <td>...</td>\n",
       "      <td>...</td>\n",
       "    </tr>\n",
       "    <tr>\n",
       "      <th>43033</th>\n",
       "      <td>fffac3a287</td>\n",
       "      <td>e344ab2e71</td>\n",
       "      <td>52f13dac0c</td>\n",
       "      <td>0f84eb7480</td>\n",
       "      <td>420c3b3f0b</td>\n",
       "      <td>150.0</td>\n",
       "      <td>5aef526287</td>\n",
       "      <td>f546d8aa6f</td>\n",
       "      <td>0.085</td>\n",
       "      <td>0</td>\n",
       "      <td>0</td>\n",
       "    </tr>\n",
       "    <tr>\n",
       "      <th>43034</th>\n",
       "      <td>fffd2946cf</td>\n",
       "      <td>e344ab2e71</td>\n",
       "      <td>52f13dac0c</td>\n",
       "      <td>a1786084ca</td>\n",
       "      <td>b2960bceb8</td>\n",
       "      <td>176.0</td>\n",
       "      <td>7bf16d4aa4</td>\n",
       "      <td>3d8c5ef5f4</td>\n",
       "      <td>0.130</td>\n",
       "      <td>0</td>\n",
       "      <td>0</td>\n",
       "    </tr>\n",
       "    <tr>\n",
       "      <th>43035</th>\n",
       "      <td>fffd7fb409</td>\n",
       "      <td>e344ab2e71</td>\n",
       "      <td>1d2939ba1d</td>\n",
       "      <td>2721c4b3d6</td>\n",
       "      <td>32f03574dd</td>\n",
       "      <td>255.0</td>\n",
       "      <td>1267326e16</td>\n",
       "      <td>0cfa052441</td>\n",
       "      <td>0.450</td>\n",
       "      <td>0</td>\n",
       "      <td>0</td>\n",
       "    </tr>\n",
       "    <tr>\n",
       "      <th>43036</th>\n",
       "      <td>fffd963a2c</td>\n",
       "      <td>c3d3a8e8c6</td>\n",
       "      <td>c2a3ea8d5e</td>\n",
       "      <td>a6b0dd76e0</td>\n",
       "      <td>a7e8f1cc02</td>\n",
       "      <td>220.0</td>\n",
       "      <td>c2eec3be6f</td>\n",
       "      <td>75ea3d1182</td>\n",
       "      <td>0.300</td>\n",
       "      <td>0</td>\n",
       "      <td>0</td>\n",
       "    </tr>\n",
       "    <tr>\n",
       "      <th>43037</th>\n",
       "      <td>fffd992186</td>\n",
       "      <td>e344ab2e71</td>\n",
       "      <td>14d373dff5</td>\n",
       "      <td>3e810ee449</td>\n",
       "      <td>b3abf10724</td>\n",
       "      <td>235.0</td>\n",
       "      <td>880444b642</td>\n",
       "      <td>c2d24cc81f</td>\n",
       "      <td>0.250</td>\n",
       "      <td>0</td>\n",
       "      <td>0</td>\n",
       "    </tr>\n",
       "  </tbody>\n",
       "</table>\n",
       "<p>43038 rows × 11 columns</p>\n",
       "</div>"
      ],
      "text/plain": [
       "       product_id     level_1     level_2     level_3     level_4  segment_id  \\\n",
       "0      0003020d3c  c3d3a8e8c6  c2a3ea8d5e  b7cda0ec0c  6376f2a852       123.0   \n",
       "1      0003870676  e344ab2e71  52f13dac0c  d3cfe81323  6dc544533f       105.0   \n",
       "2      0003ceaf69  c3d3a8e8c6  f2333c90fb  419bc5b424  f6148afbc0       271.0   \n",
       "3      000701e093  ec62ce61e3  4202626fcb  88a515c084  48cf3d488f       172.0   \n",
       "4      0007149564  e344ab2e71  52f13dac0c  d3cfe81323  6dc544533f       105.0   \n",
       "...           ...         ...         ...         ...         ...         ...   \n",
       "43033  fffac3a287  e344ab2e71  52f13dac0c  0f84eb7480  420c3b3f0b       150.0   \n",
       "43034  fffd2946cf  e344ab2e71  52f13dac0c  a1786084ca  b2960bceb8       176.0   \n",
       "43035  fffd7fb409  e344ab2e71  1d2939ba1d  2721c4b3d6  32f03574dd       255.0   \n",
       "43036  fffd963a2c  c3d3a8e8c6  c2a3ea8d5e  a6b0dd76e0  a7e8f1cc02       220.0   \n",
       "43037  fffd992186  e344ab2e71  14d373dff5  3e810ee449  b3abf10724       235.0   \n",
       "\n",
       "         brand_id   vendor_id  netto  is_own_trademark  is_alcohol  \n",
       "0      394a54a7c1  9eaff48661  0.400                 0           0  \n",
       "1      acd3dd483f  10486c3cf0  0.680                 0           0  \n",
       "2      f597581079  764e660dda  0.500                 0           0  \n",
       "3      54a90fe769  03c2d70bad  0.112                 0           0  \n",
       "4      63417fe1f3  f329130198  0.600                 0           0  \n",
       "...           ...         ...    ...               ...         ...  \n",
       "43033  5aef526287  f546d8aa6f  0.085                 0           0  \n",
       "43034  7bf16d4aa4  3d8c5ef5f4  0.130                 0           0  \n",
       "43035  1267326e16  0cfa052441  0.450                 0           0  \n",
       "43036  c2eec3be6f  75ea3d1182  0.300                 0           0  \n",
       "43037  880444b642  c2d24cc81f  0.250                 0           0  \n",
       "\n",
       "[43038 rows x 11 columns]"
      ]
     },
     "execution_count": 26,
     "metadata": {},
     "output_type": "execute_result"
    }
   ],
   "source": [
    "df_products"
   ]
  },
  {
   "cell_type": "code",
   "execution_count": 195,
   "metadata": {},
   "outputs": [
    {
     "data": {
      "text/plain": [
       "product_id          43038\n",
       "level_1             43035\n",
       "level_2             43035\n",
       "level_3             43035\n",
       "level_4             43035\n",
       "segment_id          41466\n",
       "brand_id            37838\n",
       "vendor_id           43004\n",
       "netto               43035\n",
       "is_own_trademark    43038\n",
       "is_alcohol          43038\n",
       "dtype: int64"
      ]
     },
     "execution_count": 195,
     "metadata": {},
     "output_type": "execute_result"
    }
   ],
   "source": [
    "df_products.count()"
   ]
  },
  {
   "cell_type": "code",
   "execution_count": 70,
   "metadata": {},
   "outputs": [
    {
     "data": {
      "text/plain": [
       "e344ab2e71    22183\n",
       "c3d3a8e8c6    16573\n",
       "ec62ce61e3     4279\n",
       "Name: level_1, dtype: int64"
      ]
     },
     "execution_count": 70,
     "metadata": {},
     "output_type": "execute_result"
    }
   ],
   "source": [
    "df_products['level_1'].value_counts()"
   ]
  },
  {
   "cell_type": "code",
   "execution_count": 76,
   "metadata": {
    "scrolled": true
   },
   "outputs": [
    {
     "data": {
      "text/plain": [
       "52f13dac0c    8891\n",
       "ad2b2e17d2    6631\n",
       "f2333c90fb    3310\n",
       "ed2ad1797c    3257\n",
       "703f4b6eb0    2396\n",
       "749c619457    2393\n",
       "14d373dff5    2377\n",
       "c2a3ea8d5e    2209\n",
       "1d2939ba1d    1717\n",
       "f93982269d    1343\n",
       "4202626fcb    1124\n",
       "de6f3b925a     910\n",
       "be86806c6b     757\n",
       "6b4ae3f25d     570\n",
       "a49a930a49     540\n",
       "d283080a93     523\n",
       "70ac384d6a     502\n",
       "825fe699ab     441\n",
       "034aca0659     383\n",
       "f980df59e1     331\n",
       "36bd2cad67     285\n",
       "63852cb2ab     261\n",
       "428e08386e     245\n",
       "91fb12a54a     242\n",
       "fb3d79909e     225\n",
       "6f624f4be0     206\n",
       "e8705574ff     174\n",
       "b0c4967fce     125\n",
       "93073a7304     114\n",
       "79666b6e44     100\n",
       "8a277809e5      87\n",
       "3f9010c11e      74\n",
       "fb84f08028      69\n",
       "c6e84cdac8      56\n",
       "26ae5a7da8      39\n",
       "c3d6b407d9      36\n",
       "a75f1bad01      18\n",
       "35642addd4      17\n",
       "3ef03403a0      17\n",
       "a2963967ff      16\n",
       "2ede06c1ee      14\n",
       "15e7af62dd      10\n",
       "Name: level_2, dtype: int64"
      ]
     },
     "execution_count": 76,
     "metadata": {},
     "output_type": "execute_result"
    }
   ],
   "source": [
    "df_products['level_2'].value_counts()"
   ]
  },
  {
   "cell_type": "code",
   "execution_count": 75,
   "metadata": {},
   "outputs": [
    {
     "data": {
      "text/plain": [
       "ca69ed9de2    3737\n",
       "419bc5b424    2729\n",
       "0f84eb7480    2571\n",
       "38816369ce    2324\n",
       "6b55683dad    1862\n",
       "              ... \n",
       "c0a411f3b8       1\n",
       "d26b025821       1\n",
       "57f95167c1       1\n",
       "cf7a66aa8b       1\n",
       "475f86c453       1\n",
       "Name: level_3, Length: 201, dtype: int64"
      ]
     },
     "execution_count": 75,
     "metadata": {},
     "output_type": "execute_result"
    }
   ],
   "source": [
    "df_products['level_3'].value_counts()"
   ]
  },
  {
   "cell_type": "code",
   "execution_count": 77,
   "metadata": {},
   "outputs": [
    {
     "data": {
      "text/plain": [
       "420c3b3f0b    2500\n",
       "4d4b7e1f16    2077\n",
       "3a074a6620    1485\n",
       "6dc544533f    1313\n",
       "b4b0e4c470     784\n",
       "              ... \n",
       "9d5c6c6b11       1\n",
       "690cbc6ce7       1\n",
       "0c61588ac2       1\n",
       "53755496eb       1\n",
       "fca87d4254       1\n",
       "Name: level_4, Length: 790, dtype: int64"
      ]
     },
     "execution_count": 77,
     "metadata": {},
     "output_type": "execute_result"
    }
   ],
   "source": [
    "df_products['level_4'].value_counts()"
   ]
  },
  {
   "cell_type": "code",
   "execution_count": 78,
   "metadata": {},
   "outputs": [
    {
     "data": {
      "text/plain": [
       "105.0    5360\n",
       "150.0    2745\n",
       "271.0    1690\n",
       "259.0    1523\n",
       "85.0     1291\n",
       "         ... \n",
       "23.0       10\n",
       "211.0       7\n",
       "171.0       6\n",
       "258.0       3\n",
       "144.0       3\n",
       "Name: segment_id, Length: 116, dtype: int64"
      ]
     },
     "execution_count": 78,
     "metadata": {},
     "output_type": "execute_result"
    }
   ],
   "source": [
    "df_products['segment_id'].value_counts()"
   ]
  },
  {
   "cell_type": "code",
   "execution_count": 79,
   "metadata": {},
   "outputs": [
    {
     "data": {
      "text/plain": [
       "0d6f137fb6    4344\n",
       "4da2dc345f    3071\n",
       "b06ace74de     385\n",
       "ab230258e9     268\n",
       "63ba6b7a61     136\n",
       "              ... \n",
       "7a29f17b84       1\n",
       "80ab83fda5       1\n",
       "41db68d44b       1\n",
       "ef911b1caf       1\n",
       "0d9c8ce7f5       1\n",
       "Name: brand_id, Length: 4296, dtype: int64"
      ]
     },
     "execution_count": 79,
     "metadata": {},
     "output_type": "execute_result"
    }
   ],
   "source": [
    "df_products['brand_id'].value_counts()"
   ]
  },
  {
   "cell_type": "code",
   "execution_count": 80,
   "metadata": {},
   "outputs": [
    {
     "data": {
      "text/plain": [
       "43acd80c1a    1514\n",
       "63243765ed     349\n",
       "c4e167b91e     331\n",
       "83f98e6dc3     328\n",
       "4f276b13c1     323\n",
       "              ... \n",
       "c4655e8d7d       1\n",
       "cc452eff56       1\n",
       "62f5423d28       1\n",
       "38284aa3db       1\n",
       "9f241baab6       1\n",
       "Name: vendor_id, Length: 3193, dtype: int64"
      ]
     },
     "execution_count": 80,
     "metadata": {},
     "output_type": "execute_result"
    }
   ],
   "source": [
    "df_products['vendor_id'].value_counts()"
   ]
  },
  {
   "cell_type": "code",
   "execution_count": 159,
   "metadata": {},
   "outputs": [
    {
     "data": {
      "image/png": "[encoded data removed]",
      "text/plain": [
       "<Figure size 1008x288 with 2 Axes>"
      ]
     },
     "metadata": {
      "needs_background": "light"
     },
     "output_type": "display_data"
    }
   ],
   "source": [
    "_, (ax0, ax1) = plt.subplots(1, 2, figsize=(14, 4))\n",
    "df_products['netto'].clip(None, 2).hist(ax=ax0)\n",
    "np.log1p(df_products['netto']).clip(None, 1).hist(ax=ax1)\n",
    "\n",
    "plt.show()"
   ]
  },
  {
   "cell_type": "code",
   "execution_count": null,
   "metadata": {},
   "outputs": [],
   "source": []
  },
  {
   "cell_type": "markdown",
   "metadata": {},
   "source": [
    "## Purchases"
   ]
  },
  {
   "cell_type": "code",
   "execution_count": 140,
   "metadata": {},
   "outputs": [
    {
     "data": {
      "text/html": [
       "<div>\n",
       "<style scoped>\n",
       "    .dataframe tbody tr th:only-of-type {\n",
       "        vertical-align: middle;\n",
       "    }\n",
       "\n",
       "    .dataframe tbody tr th {\n",
       "        vertical-align: top;\n",
       "    }\n",
       "\n",
       "    .dataframe thead th {\n",
       "        text-align: right;\n",
       "    }\n",
       "</style>\n",
       "<table border=\"1\" class=\"dataframe\">\n",
       "  <thead>\n",
       "    <tr style=\"text-align: right;\">\n",
       "      <th></th>\n",
       "      <th>client_id</th>\n",
       "      <th>transaction_id</th>\n",
       "      <th>transaction_datetime</th>\n",
       "      <th>regular_points_received</th>\n",
       "      <th>express_points_received</th>\n",
       "      <th>regular_points_spent</th>\n",
       "      <th>express_points_spent</th>\n",
       "      <th>purchase_sum</th>\n",
       "      <th>store_id</th>\n",
       "      <th>product_id</th>\n",
       "      <th>product_quantity</th>\n",
       "      <th>trn_sum_from_iss</th>\n",
       "      <th>trn_sum_from_red</th>\n",
       "      <th>transaction_month</th>\n",
       "    </tr>\n",
       "  </thead>\n",
       "  <tbody>\n",
       "    <tr>\n",
       "      <th>0</th>\n",
       "      <td>000012768d</td>\n",
       "      <td>7e3e2e3984</td>\n",
       "      <td>2018-12-01 07:12:45</td>\n",
       "      <td>10.0</td>\n",
       "      <td>0.0</td>\n",
       "      <td>0.0</td>\n",
       "      <td>0.0</td>\n",
       "      <td>1007.0</td>\n",
       "      <td>54a4a11a29</td>\n",
       "      <td>9a80204f78</td>\n",
       "      <td>2.0</td>\n",
       "      <td>80.0</td>\n",
       "      <td>NaN</td>\n",
       "      <td>2018-12-01</td>\n",
       "    </tr>\n",
       "    <tr>\n",
       "      <th>1</th>\n",
       "      <td>000012768d</td>\n",
       "      <td>7e3e2e3984</td>\n",
       "      <td>2018-12-01 07:12:45</td>\n",
       "      <td>10.0</td>\n",
       "      <td>0.0</td>\n",
       "      <td>0.0</td>\n",
       "      <td>0.0</td>\n",
       "      <td>1007.0</td>\n",
       "      <td>54a4a11a29</td>\n",
       "      <td>da89ebd374</td>\n",
       "      <td>1.0</td>\n",
       "      <td>65.0</td>\n",
       "      <td>NaN</td>\n",
       "      <td>2018-12-01</td>\n",
       "    </tr>\n",
       "    <tr>\n",
       "      <th>2</th>\n",
       "      <td>000012768d</td>\n",
       "      <td>7e3e2e3984</td>\n",
       "      <td>2018-12-01 07:12:45</td>\n",
       "      <td>10.0</td>\n",
       "      <td>0.0</td>\n",
       "      <td>0.0</td>\n",
       "      <td>0.0</td>\n",
       "      <td>1007.0</td>\n",
       "      <td>54a4a11a29</td>\n",
       "      <td>0a95e1151d</td>\n",
       "      <td>1.0</td>\n",
       "      <td>24.0</td>\n",
       "      <td>NaN</td>\n",
       "      <td>2018-12-01</td>\n",
       "    </tr>\n",
       "    <tr>\n",
       "      <th>3</th>\n",
       "      <td>000012768d</td>\n",
       "      <td>7e3e2e3984</td>\n",
       "      <td>2018-12-01 07:12:45</td>\n",
       "      <td>10.0</td>\n",
       "      <td>0.0</td>\n",
       "      <td>0.0</td>\n",
       "      <td>0.0</td>\n",
       "      <td>1007.0</td>\n",
       "      <td>54a4a11a29</td>\n",
       "      <td>4055b15e4a</td>\n",
       "      <td>2.0</td>\n",
       "      <td>50.0</td>\n",
       "      <td>NaN</td>\n",
       "      <td>2018-12-01</td>\n",
       "    </tr>\n",
       "    <tr>\n",
       "      <th>4</th>\n",
       "      <td>000012768d</td>\n",
       "      <td>7e3e2e3984</td>\n",
       "      <td>2018-12-01 07:12:45</td>\n",
       "      <td>10.0</td>\n",
       "      <td>0.0</td>\n",
       "      <td>0.0</td>\n",
       "      <td>0.0</td>\n",
       "      <td>1007.0</td>\n",
       "      <td>54a4a11a29</td>\n",
       "      <td>a685f1916b</td>\n",
       "      <td>1.0</td>\n",
       "      <td>22.0</td>\n",
       "      <td>NaN</td>\n",
       "      <td>2018-12-01</td>\n",
       "    </tr>\n",
       "    <tr>\n",
       "      <th>...</th>\n",
       "      <td>...</td>\n",
       "      <td>...</td>\n",
       "      <td>...</td>\n",
       "      <td>...</td>\n",
       "      <td>...</td>\n",
       "      <td>...</td>\n",
       "      <td>...</td>\n",
       "      <td>...</td>\n",
       "      <td>...</td>\n",
       "      <td>...</td>\n",
       "      <td>...</td>\n",
       "      <td>...</td>\n",
       "      <td>...</td>\n",
       "      <td>...</td>\n",
       "    </tr>\n",
       "    <tr>\n",
       "      <th>45786563</th>\n",
       "      <td>fffff6ce77</td>\n",
       "      <td>48f6d115ce</td>\n",
       "      <td>2019-03-15 17:47:02</td>\n",
       "      <td>6.7</td>\n",
       "      <td>0.0</td>\n",
       "      <td>0.0</td>\n",
       "      <td>0.0</td>\n",
       "      <td>676.0</td>\n",
       "      <td>5ec64bdccb</td>\n",
       "      <td>24d5a54f42</td>\n",
       "      <td>1.0</td>\n",
       "      <td>164.0</td>\n",
       "      <td>NaN</td>\n",
       "      <td>2019-03-01</td>\n",
       "    </tr>\n",
       "    <tr>\n",
       "      <th>45786564</th>\n",
       "      <td>fffff6ce77</td>\n",
       "      <td>48f6d115ce</td>\n",
       "      <td>2019-03-15 17:47:02</td>\n",
       "      <td>6.7</td>\n",
       "      <td>0.0</td>\n",
       "      <td>0.0</td>\n",
       "      <td>0.0</td>\n",
       "      <td>676.0</td>\n",
       "      <td>5ec64bdccb</td>\n",
       "      <td>7427d0830d</td>\n",
       "      <td>1.0</td>\n",
       "      <td>134.0</td>\n",
       "      <td>NaN</td>\n",
       "      <td>2019-03-01</td>\n",
       "    </tr>\n",
       "    <tr>\n",
       "      <th>45786565</th>\n",
       "      <td>fffff6ce77</td>\n",
       "      <td>48f6d115ce</td>\n",
       "      <td>2019-03-15 17:47:02</td>\n",
       "      <td>6.7</td>\n",
       "      <td>0.0</td>\n",
       "      <td>0.0</td>\n",
       "      <td>0.0</td>\n",
       "      <td>676.0</td>\n",
       "      <td>5ec64bdccb</td>\n",
       "      <td>6c547c2ca8</td>\n",
       "      <td>1.0</td>\n",
       "      <td>60.0</td>\n",
       "      <td>NaN</td>\n",
       "      <td>2019-03-01</td>\n",
       "    </tr>\n",
       "    <tr>\n",
       "      <th>45786566</th>\n",
       "      <td>fffff6ce77</td>\n",
       "      <td>48f6d115ce</td>\n",
       "      <td>2019-03-15 17:47:02</td>\n",
       "      <td>6.7</td>\n",
       "      <td>0.0</td>\n",
       "      <td>0.0</td>\n",
       "      <td>0.0</td>\n",
       "      <td>676.0</td>\n",
       "      <td>5ec64bdccb</td>\n",
       "      <td>d04e7a8338</td>\n",
       "      <td>1.0</td>\n",
       "      <td>48.0</td>\n",
       "      <td>NaN</td>\n",
       "      <td>2019-03-01</td>\n",
       "    </tr>\n",
       "    <tr>\n",
       "      <th>45786567</th>\n",
       "      <td>fffff6ce77</td>\n",
       "      <td>48f6d115ce</td>\n",
       "      <td>2019-03-15 17:47:02</td>\n",
       "      <td>6.7</td>\n",
       "      <td>0.0</td>\n",
       "      <td>0.0</td>\n",
       "      <td>0.0</td>\n",
       "      <td>676.0</td>\n",
       "      <td>5ec64bdccb</td>\n",
       "      <td>f40cd0b2f4</td>\n",
       "      <td>1.0</td>\n",
       "      <td>17.0</td>\n",
       "      <td>NaN</td>\n",
       "      <td>2019-03-01</td>\n",
       "    </tr>\n",
       "  </tbody>\n",
       "</table>\n",
       "<p>45786568 rows × 14 columns</p>\n",
       "</div>"
      ],
      "text/plain": [
       "           client_id transaction_id transaction_datetime  \\\n",
       "0         000012768d     7e3e2e3984  2018-12-01 07:12:45   \n",
       "1         000012768d     7e3e2e3984  2018-12-01 07:12:45   \n",
       "2         000012768d     7e3e2e3984  2018-12-01 07:12:45   \n",
       "3         000012768d     7e3e2e3984  2018-12-01 07:12:45   \n",
       "4         000012768d     7e3e2e3984  2018-12-01 07:12:45   \n",
       "...              ...            ...                  ...   \n",
       "45786563  fffff6ce77     48f6d115ce  2019-03-15 17:47:02   \n",
       "45786564  fffff6ce77     48f6d115ce  2019-03-15 17:47:02   \n",
       "45786565  fffff6ce77     48f6d115ce  2019-03-15 17:47:02   \n",
       "45786566  fffff6ce77     48f6d115ce  2019-03-15 17:47:02   \n",
       "45786567  fffff6ce77     48f6d115ce  2019-03-15 17:47:02   \n",
       "\n",
       "          regular_points_received  express_points_received  \\\n",
       "0                            10.0                      0.0   \n",
       "1                            10.0                      0.0   \n",
       "2                            10.0                      0.0   \n",
       "3                            10.0                      0.0   \n",
       "4                            10.0                      0.0   \n",
       "...                           ...                      ...   \n",
       "45786563                      6.7                      0.0   \n",
       "45786564                      6.7                      0.0   \n",
       "45786565                      6.7                      0.0   \n",
       "45786566                      6.7                      0.0   \n",
       "45786567                      6.7                      0.0   \n",
       "\n",
       "          regular_points_spent  express_points_spent  purchase_sum  \\\n",
       "0                          0.0                   0.0        1007.0   \n",
       "1                          0.0                   0.0        1007.0   \n",
       "2                          0.0                   0.0        1007.0   \n",
       "3                          0.0                   0.0        1007.0   \n",
       "4                          0.0                   0.0        1007.0   \n",
       "...                        ...                   ...           ...   \n",
       "45786563                   0.0                   0.0         676.0   \n",
       "45786564                   0.0                   0.0         676.0   \n",
       "45786565                   0.0                   0.0         676.0   \n",
       "45786566                   0.0                   0.0         676.0   \n",
       "45786567                   0.0                   0.0         676.0   \n",
       "\n",
       "            store_id  product_id  product_quantity  trn_sum_from_iss  \\\n",
       "0         54a4a11a29  9a80204f78               2.0              80.0   \n",
       "1         54a4a11a29  da89ebd374               1.0              65.0   \n",
       "2         54a4a11a29  0a95e1151d               1.0              24.0   \n",
       "3         54a4a11a29  4055b15e4a               2.0              50.0   \n",
       "4         54a4a11a29  a685f1916b               1.0              22.0   \n",
       "...              ...         ...               ...               ...   \n",
       "45786563  5ec64bdccb  24d5a54f42               1.0             164.0   \n",
       "45786564  5ec64bdccb  7427d0830d               1.0             134.0   \n",
       "45786565  5ec64bdccb  6c547c2ca8               1.0              60.0   \n",
       "45786566  5ec64bdccb  d04e7a8338               1.0              48.0   \n",
       "45786567  5ec64bdccb  f40cd0b2f4               1.0              17.0   \n",
       "\n",
       "          trn_sum_from_red transaction_month  \n",
       "0                      NaN        2018-12-01  \n",
       "1                      NaN        2018-12-01  \n",
       "2                      NaN        2018-12-01  \n",
       "3                      NaN        2018-12-01  \n",
       "4                      NaN        2018-12-01  \n",
       "...                    ...               ...  \n",
       "45786563               NaN        2019-03-01  \n",
       "45786564               NaN        2019-03-01  \n",
       "45786565               NaN        2019-03-01  \n",
       "45786566               NaN        2019-03-01  \n",
       "45786567               NaN        2019-03-01  \n",
       "\n",
       "[45786568 rows x 14 columns]"
      ]
     },
     "execution_count": 140,
     "metadata": {},
     "output_type": "execute_result"
    }
   ],
   "source": [
    "df_purchases"
   ]
  },
  {
   "cell_type": "code",
   "execution_count": 33,
   "metadata": {},
   "outputs": [
    {
     "data": {
      "text/plain": [
       "client_id                  45786568\n",
       "transaction_id             45786568\n",
       "transaction_datetime       45786568\n",
       "regular_points_received    45786568\n",
       "express_points_received    45786568\n",
       "regular_points_spent       45786568\n",
       "express_points_spent       45786568\n",
       "purchase_sum               45786568\n",
       "store_id                   45786568\n",
       "product_id                 45786568\n",
       "product_quantity           45786568\n",
       "trn_sum_from_iss           45786568\n",
       "trn_sum_from_red            3043356\n",
       "dtype: int64"
      ]
     },
     "execution_count": 33,
     "metadata": {},
     "output_type": "execute_result"
    }
   ],
   "source": [
    "df_purchases.count()"
   ]
  },
  {
   "cell_type": "code",
   "execution_count": 67,
   "metadata": {},
   "outputs": [
    {
     "data": {
      "text/plain": [
       "<matplotlib.axes._subplots.AxesSubplot at 0x7fb426a9c550>"
      ]
     },
     "execution_count": 67,
     "metadata": {},
     "output_type": "execute_result"
    },
    {
     "data": {
      "image/png": "[encoded data removed]",
      "text/plain": [
       "<Figure size 864x288 with 1 Axes>"
      ]
     },
     "metadata": {
      "needs_background": "light"
     },
     "output_type": "display_data"
    }
   ],
   "source": [
    "df_purchases.groupby(['transaction_id', 'client_id'])['transaction_datetime'].count().hist(bins=20, figsize=(12, 4))"
   ]
  },
  {
   "cell_type": "code",
   "execution_count": 52,
   "metadata": {},
   "outputs": [
    {
     "data": {
      "text/plain": [
       "400162"
      ]
     },
     "execution_count": 52,
     "metadata": {},
     "output_type": "execute_result"
    }
   ],
   "source": [
    "df_purchases['client_id'].nunique()"
   ]
  },
  {
   "cell_type": "code",
   "execution_count": 68,
   "metadata": {},
   "outputs": [
    {
     "data": {
      "text/plain": [
       "0.15     2.0\n",
       "0.95    15.0\n",
       "Name: transaction_datetime, dtype: float64"
      ]
     },
     "execution_count": 68,
     "metadata": {},
     "output_type": "execute_result"
    }
   ],
   "source": [
    "df_purchases.groupby(['transaction_id', 'client_id'])['transaction_datetime'].count().quantile([0.15, 0.95])"
   ]
  },
  {
   "cell_type": "code",
   "execution_count": 164,
   "metadata": {},
   "outputs": [
    {
     "data": {
      "image/png": "[encoded data removed]",
      "text/plain": [
       "<Figure size 1008x288 with 2 Axes>"
      ]
     },
     "metadata": {
      "needs_background": "light"
     },
     "output_type": "display_data"
    },
    {
     "data": {
      "image/png": "[encoded data removed]",
      "text/plain": [
       "<Figure size 1008x288 with 2 Axes>"
      ]
     },
     "metadata": {
      "needs_background": "light"
     },
     "output_type": "display_data"
    },
    {
     "data": {
      "image/png": "[encoded data removed]",
      "text/plain": [
       "<Figure size 1008x288 with 2 Axes>"
      ]
     },
     "metadata": {
      "needs_background": "light"
     },
     "output_type": "display_data"
    }
   ],
   "source": [
    "for col in [\n",
    "#     'regular_points_received', 'express_points_received',\n",
    "#     'regular_points_spent', 'express_points_spent',\n",
    "#     'purchase_sum',\n",
    "    'product_quantity', 'trn_sum_from_iss', 'trn_sum_from_red',\n",
    "]:\n",
    "    _, (ax0, ax1) = plt.subplots(1, 2, figsize=(14, 4))\n",
    "    df_purchases[col].hist(ax=ax0)\n",
    "    (np.log1p(abs(df_purchases[col])) * np.sign(df_purchases[col])).hist(ax=ax1)\n",
    "    plt.suptitle(col)\n",
    "    plt.show()"
   ]
  },
  {
   "cell_type": "markdown",
   "metadata": {},
   "source": [
    "## Transactions"
   ]
  },
  {
   "cell_type": "code",
   "execution_count": 97,
   "metadata": {},
   "outputs": [],
   "source": [
    "df_trx = df_purchases \\\n",
    "    .drop(columns=['product_id', 'product_quantity', 'trn_sum_from_iss', 'trn_sum_from_red']) \\\n",
    "    .drop_duplicates()"
   ]
  },
  {
   "cell_type": "code",
   "execution_count": 201,
   "metadata": {},
   "outputs": [
    {
     "data": {
      "text/html": [
       "<div>\n",
       "<style scoped>\n",
       "    .dataframe tbody tr th:only-of-type {\n",
       "        vertical-align: middle;\n",
       "    }\n",
       "\n",
       "    .dataframe tbody tr th {\n",
       "        vertical-align: top;\n",
       "    }\n",
       "\n",
       "    .dataframe thead th {\n",
       "        text-align: right;\n",
       "    }\n",
       "</style>\n",
       "<table border=\"1\" class=\"dataframe\">\n",
       "  <thead>\n",
       "    <tr style=\"text-align: right;\">\n",
       "      <th></th>\n",
       "      <th>client_id</th>\n",
       "      <th>transaction_id</th>\n",
       "      <th>transaction_datetime</th>\n",
       "      <th>regular_points_received</th>\n",
       "      <th>express_points_received</th>\n",
       "      <th>regular_points_spent</th>\n",
       "      <th>express_points_spent</th>\n",
       "      <th>purchase_sum</th>\n",
       "      <th>store_id</th>\n",
       "      <th>transaction_month</th>\n",
       "    </tr>\n",
       "  </thead>\n",
       "  <tbody>\n",
       "    <tr>\n",
       "      <th>0</th>\n",
       "      <td>000012768d</td>\n",
       "      <td>7e3e2e3984</td>\n",
       "      <td>2018-12-01 07:12:45</td>\n",
       "      <td>10.0</td>\n",
       "      <td>0.0</td>\n",
       "      <td>0.0</td>\n",
       "      <td>0.0</td>\n",
       "      <td>1007.0</td>\n",
       "      <td>54a4a11a29</td>\n",
       "      <td>2018-12-01</td>\n",
       "    </tr>\n",
       "    <tr>\n",
       "      <th>19</th>\n",
       "      <td>000012768d</td>\n",
       "      <td>c1ca85d462</td>\n",
       "      <td>2018-12-16 08:56:01</td>\n",
       "      <td>5.7</td>\n",
       "      <td>0.0</td>\n",
       "      <td>0.0</td>\n",
       "      <td>0.0</td>\n",
       "      <td>574.0</td>\n",
       "      <td>ed8d2683fd</td>\n",
       "      <td>2018-12-01</td>\n",
       "    </tr>\n",
       "    <tr>\n",
       "      <th>30</th>\n",
       "      <td>000012768d</td>\n",
       "      <td>6a0e96d0bc</td>\n",
       "      <td>2019-03-08 10:12:03</td>\n",
       "      <td>8.0</td>\n",
       "      <td>0.0</td>\n",
       "      <td>0.0</td>\n",
       "      <td>0.0</td>\n",
       "      <td>803.0</td>\n",
       "      <td>017c89b915</td>\n",
       "      <td>2019-03-01</td>\n",
       "    </tr>\n",
       "    <tr>\n",
       "      <th>46</th>\n",
       "      <td>000012768d</td>\n",
       "      <td>b34f23306e</td>\n",
       "      <td>2019-03-14 15:01:47</td>\n",
       "      <td>2.0</td>\n",
       "      <td>0.0</td>\n",
       "      <td>0.0</td>\n",
       "      <td>0.0</td>\n",
       "      <td>419.0</td>\n",
       "      <td>017c89b915</td>\n",
       "      <td>2019-03-01</td>\n",
       "    </tr>\n",
       "    <tr>\n",
       "      <th>52</th>\n",
       "      <td>000036f903</td>\n",
       "      <td>12b218b054</td>\n",
       "      <td>2018-11-28 10:48:36</td>\n",
       "      <td>1.2</td>\n",
       "      <td>0.0</td>\n",
       "      <td>0.0</td>\n",
       "      <td>0.0</td>\n",
       "      <td>241.0</td>\n",
       "      <td>6381a55c22</td>\n",
       "      <td>2018-11-01</td>\n",
       "    </tr>\n",
       "    <tr>\n",
       "      <th>...</th>\n",
       "      <td>...</td>\n",
       "      <td>...</td>\n",
       "      <td>...</td>\n",
       "      <td>...</td>\n",
       "      <td>...</td>\n",
       "      <td>...</td>\n",
       "      <td>...</td>\n",
       "      <td>...</td>\n",
       "      <td>...</td>\n",
       "      <td>...</td>\n",
       "    </tr>\n",
       "    <tr>\n",
       "      <th>45786546</th>\n",
       "      <td>fffff6ce77</td>\n",
       "      <td>eba2694c0c</td>\n",
       "      <td>2019-02-28 12:56:31</td>\n",
       "      <td>1.8</td>\n",
       "      <td>0.0</td>\n",
       "      <td>0.0</td>\n",
       "      <td>0.0</td>\n",
       "      <td>446.0</td>\n",
       "      <td>5ec64bdccb</td>\n",
       "      <td>2019-02-01</td>\n",
       "    </tr>\n",
       "    <tr>\n",
       "      <th>45786555</th>\n",
       "      <td>fffff6ce77</td>\n",
       "      <td>bdd578a115</td>\n",
       "      <td>2019-03-05 15:07:03</td>\n",
       "      <td>0.3</td>\n",
       "      <td>0.0</td>\n",
       "      <td>0.0</td>\n",
       "      <td>0.0</td>\n",
       "      <td>247.0</td>\n",
       "      <td>5ec64bdccb</td>\n",
       "      <td>2019-03-01</td>\n",
       "    </tr>\n",
       "    <tr>\n",
       "      <th>45786556</th>\n",
       "      <td>fffff6ce77</td>\n",
       "      <td>6d9fc7ad6b</td>\n",
       "      <td>2019-03-06 16:26:35</td>\n",
       "      <td>0.1</td>\n",
       "      <td>0.0</td>\n",
       "      <td>0.0</td>\n",
       "      <td>0.0</td>\n",
       "      <td>109.0</td>\n",
       "      <td>5ec64bdccb</td>\n",
       "      <td>2019-03-01</td>\n",
       "    </tr>\n",
       "    <tr>\n",
       "      <th>45786558</th>\n",
       "      <td>fffff6ce77</td>\n",
       "      <td>b8b6e5e851</td>\n",
       "      <td>2019-03-06 16:53:10</td>\n",
       "      <td>0.2</td>\n",
       "      <td>0.0</td>\n",
       "      <td>0.0</td>\n",
       "      <td>0.0</td>\n",
       "      <td>245.0</td>\n",
       "      <td>6e4faad02e</td>\n",
       "      <td>2019-03-01</td>\n",
       "    </tr>\n",
       "    <tr>\n",
       "      <th>45786559</th>\n",
       "      <td>fffff6ce77</td>\n",
       "      <td>48f6d115ce</td>\n",
       "      <td>2019-03-15 17:47:02</td>\n",
       "      <td>6.7</td>\n",
       "      <td>0.0</td>\n",
       "      <td>0.0</td>\n",
       "      <td>0.0</td>\n",
       "      <td>676.0</td>\n",
       "      <td>5ec64bdccb</td>\n",
       "      <td>2019-03-01</td>\n",
       "    </tr>\n",
       "  </tbody>\n",
       "</table>\n",
       "<p>8045229 rows × 10 columns</p>\n",
       "</div>"
      ],
      "text/plain": [
       "           client_id transaction_id transaction_datetime  \\\n",
       "0         000012768d     7e3e2e3984  2018-12-01 07:12:45   \n",
       "19        000012768d     c1ca85d462  2018-12-16 08:56:01   \n",
       "30        000012768d     6a0e96d0bc  2019-03-08 10:12:03   \n",
       "46        000012768d     b34f23306e  2019-03-14 15:01:47   \n",
       "52        000036f903     12b218b054  2018-11-28 10:48:36   \n",
       "...              ...            ...                  ...   \n",
       "45786546  fffff6ce77     eba2694c0c  2019-02-28 12:56:31   \n",
       "45786555  fffff6ce77     bdd578a115  2019-03-05 15:07:03   \n",
       "45786556  fffff6ce77     6d9fc7ad6b  2019-03-06 16:26:35   \n",
       "45786558  fffff6ce77     b8b6e5e851  2019-03-06 16:53:10   \n",
       "45786559  fffff6ce77     48f6d115ce  2019-03-15 17:47:02   \n",
       "\n",
       "          regular_points_received  express_points_received  \\\n",
       "0                            10.0                      0.0   \n",
       "19                            5.7                      0.0   \n",
       "30                            8.0                      0.0   \n",
       "46                            2.0                      0.0   \n",
       "52                            1.2                      0.0   \n",
       "...                           ...                      ...   \n",
       "45786546                      1.8                      0.0   \n",
       "45786555                      0.3                      0.0   \n",
       "45786556                      0.1                      0.0   \n",
       "45786558                      0.2                      0.0   \n",
       "45786559                      6.7                      0.0   \n",
       "\n",
       "          regular_points_spent  express_points_spent  purchase_sum  \\\n",
       "0                          0.0                   0.0        1007.0   \n",
       "19                         0.0                   0.0         574.0   \n",
       "30                         0.0                   0.0         803.0   \n",
       "46                         0.0                   0.0         419.0   \n",
       "52                         0.0                   0.0         241.0   \n",
       "...                        ...                   ...           ...   \n",
       "45786546                   0.0                   0.0         446.0   \n",
       "45786555                   0.0                   0.0         247.0   \n",
       "45786556                   0.0                   0.0         109.0   \n",
       "45786558                   0.0                   0.0         245.0   \n",
       "45786559                   0.0                   0.0         676.0   \n",
       "\n",
       "            store_id transaction_month  \n",
       "0         54a4a11a29        2018-12-01  \n",
       "19        ed8d2683fd        2018-12-01  \n",
       "30        017c89b915        2019-03-01  \n",
       "46        017c89b915        2019-03-01  \n",
       "52        6381a55c22        2018-11-01  \n",
       "...              ...               ...  \n",
       "45786546  5ec64bdccb        2019-02-01  \n",
       "45786555  5ec64bdccb        2019-03-01  \n",
       "45786556  5ec64bdccb        2019-03-01  \n",
       "45786558  6e4faad02e        2019-03-01  \n",
       "45786559  5ec64bdccb        2019-03-01  \n",
       "\n",
       "[8045229 rows x 10 columns]"
      ]
     },
     "execution_count": 201,
     "metadata": {},
     "output_type": "execute_result"
    }
   ],
   "source": [
    "df_trx"
   ]
  },
  {
   "cell_type": "code",
   "execution_count": 98,
   "metadata": {},
   "outputs": [
    {
     "data": {
      "text/plain": [
       "095561a391-19d2967ec2    1\n",
       "a97cf352bd-2f40d4a068    1\n",
       "f70d6ad369-1d1a480d5e    1\n",
       "a1e5bd111e-0ae9c3fccd    1\n",
       "328a01845c-bf288ed310    1\n",
       "                        ..\n",
       "acd0cc7a81-493be7d242    1\n",
       "f7dbf457e8-0c1e2edf4c    1\n",
       "d385e79375-3a83c34d7f    1\n",
       "127958183b-2f4113fe87    1\n",
       "567a182495-dcf878fc9c    1\n",
       "Length: 8045229, dtype: int64"
      ]
     },
     "execution_count": 98,
     "metadata": {},
     "output_type": "execute_result"
    }
   ],
   "source": [
    "(df_trx['transaction_id'] + '-' + df_trx['client_id']).value_counts()"
   ]
  },
  {
   "cell_type": "code",
   "execution_count": 54,
   "metadata": {},
   "outputs": [
    {
     "data": {
      "text/plain": [
       "client_id                  8045229\n",
       "transaction_id             8045229\n",
       "transaction_datetime       8045229\n",
       "regular_points_received    8045229\n",
       "express_points_received    8045229\n",
       "regular_points_spent       8045229\n",
       "express_points_spent       8045229\n",
       "purchase_sum               8045229\n",
       "store_id                   8045229\n",
       "dtype: int64"
      ]
     },
     "execution_count": 54,
     "metadata": {},
     "output_type": "execute_result"
    }
   ],
   "source": [
    "df_trx.count()"
   ]
  },
  {
   "cell_type": "code",
   "execution_count": 100,
   "metadata": {},
   "outputs": [
    {
     "data": {
      "text/plain": [
       "<matplotlib.axes._subplots.AxesSubplot at 0x7fb424d06f28>"
      ]
     },
     "execution_count": 100,
     "metadata": {},
     "output_type": "execute_result"
    },
    {
     "data": {
      "image/png": "[encoded data removed]",
      "text/plain": [
       "<Figure size 864x288 with 1 Axes>"
      ]
     },
     "metadata": {
      "needs_background": "light"
     },
     "output_type": "display_data"
    }
   ],
   "source": [
    "df_trx.groupby('transaction_month')['transaction_id'].count().plot(figsize=(12, 4), kind='bar')"
   ]
  },
  {
   "cell_type": "code",
   "execution_count": 147,
   "metadata": {},
   "outputs": [
    {
     "data": {
      "text/plain": [
       "<matplotlib.axes._subplots.AxesSubplot at 0x7faf99271128>"
      ]
     },
     "execution_count": 147,
     "metadata": {},
     "output_type": "execute_result"
    },
    {
     "data": {
      "image/png": "[encoded data removed]",
      "text/plain": [
       "<Figure size 864x288 with 1 Axes>"
      ]
     },
     "metadata": {
      "needs_background": "light"
     },
     "output_type": "display_data"
    }
   ],
   "source": [
    "df_trx['store_id'].value_counts().reset_index(drop=True).plot(figsize=(12, 4), grid=True)"
   ]
  },
  {
   "cell_type": "code",
   "execution_count": 51,
   "metadata": {},
   "outputs": [
    {
     "data": {
      "image/png": "[encoded data removed]",
      "text/plain": [
       "<Figure size 864x288 with 1 Axes>"
      ]
     },
     "metadata": {
      "needs_background": "light"
     },
     "output_type": "display_data"
    }
   ],
   "source": [
    "df_trx.groupby('client_id')['transaction_id'].count().clip(None, 150).hist(bins=20, figsize=(12, 4))\n",
    "plt.title('Trx per client')\n",
    "plt.show()"
   ]
  },
  {
   "cell_type": "code",
   "execution_count": 65,
   "metadata": {},
   "outputs": [
    {
     "data": {
      "text/plain": [
       "0.15     5.0\n",
       "0.95    54.0\n",
       "Name: transaction_id, dtype: float64"
      ]
     },
     "execution_count": 65,
     "metadata": {},
     "output_type": "execute_result"
    }
   ],
   "source": [
    "df_trx.groupby('client_id')['transaction_id'].count().quantile([0.15, 0.95])"
   ]
  },
  {
   "cell_type": "code",
   "execution_count": 203,
   "metadata": {},
   "outputs": [
    {
     "data": {
      "image/png": "[encoded data removed]",
      "text/plain": [
       "<Figure size 864x288 with 1 Axes>"
      ]
     },
     "metadata": {
      "needs_background": "light"
     },
     "output_type": "display_data"
    }
   ],
   "source": [
    "df_purchases.groupby('client_id')['transaction_id'].count().clip(None, 800).hist(bins=20, figsize=(12, 4))\n",
    "plt.title('Products per client')\n",
    "plt.show()"
   ]
  },
  {
   "cell_type": "code",
   "execution_count": 66,
   "metadata": {},
   "outputs": [
    {
     "data": {
      "text/plain": [
       "0.15     29.0\n",
       "0.95    312.0\n",
       "Name: transaction_id, dtype: float64"
      ]
     },
     "execution_count": 66,
     "metadata": {},
     "output_type": "execute_result"
    }
   ],
   "source": [
    "df_purchases.groupby('client_id')['transaction_id'].count().quantile([0.15, 0.95])"
   ]
  },
  {
   "cell_type": "code",
   "execution_count": 112,
   "metadata": {},
   "outputs": [
    {
     "data": {
      "text/plain": [
       "client_id\n",
       "000012768d                NaT\n",
       "000012768d   15 days 01:43:16\n",
       "000012768d   82 days 01:16:02\n",
       "000012768d    6 days 04:49:44\n",
       "000036f903                NaT\n",
       "                   ...       \n",
       "fffff6ce77    1 days 11:54:23\n",
       "fffff6ce77    5 days 02:10:32\n",
       "fffff6ce77    1 days 01:19:32\n",
       "fffff6ce77    0 days 00:26:35\n",
       "fffff6ce77    9 days 00:53:52\n",
       "Name: transaction_datetime, Length: 8045229, dtype: timedelta64[ns]"
      ]
     },
     "execution_count": 112,
     "metadata": {},
     "output_type": "execute_result"
    }
   ],
   "source": [
    "df_trx.sort_values(['client_id', 'transaction_datetime']).set_index('client_id') \\\n",
    "    .groupby(level='client_id')['transaction_datetime'].diff()"
   ]
  },
  {
   "cell_type": "code",
   "execution_count": 123,
   "metadata": {},
   "outputs": [
    {
     "data": {
      "text/plain": [
       "<matplotlib.axes._subplots.AxesSubplot at 0x7fb42573f7b8>"
      ]
     },
     "execution_count": 123,
     "metadata": {},
     "output_type": "execute_result"
    },
    {
     "data": {
      "image/png": "[encoded data removed]",
      "text/plain": [
       "<Figure size 864x288 with 1 Axes>"
      ]
     },
     "metadata": {
      "needs_background": "light"
     },
     "output_type": "display_data"
    }
   ],
   "source": [
    "df_trx.sort_values(['client_id', 'transaction_datetime']).set_index('client_id') \\\n",
    "    .groupby(level='client_id')['transaction_datetime'].diff().dropna() \\\n",
    "    .astype(int).div(1e9 * 24 * 60 * 60).clip(None, 30).hist(bins=20, figsize=(12, 4))"
   ]
  },
  {
   "cell_type": "code",
   "execution_count": null,
   "metadata": {},
   "outputs": [],
   "source": []
  },
  {
   "cell_type": "code",
   "execution_count": 163,
   "metadata": {
    "scrolled": false
   },
   "outputs": [
    {
     "data": {
      "image/png": "[encoded data removed]",
      "text/plain": [
       "<Figure size 1008x288 with 2 Axes>"
      ]
     },
     "metadata": {
      "needs_background": "light"
     },
     "output_type": "display_data"
    },
    {
     "data": {
      "image/png": "[encoded data removed]",
      "text/plain": [
       "<Figure size 1008x288 with 2 Axes>"
      ]
     },
     "metadata": {
      "needs_background": "light"
     },
     "output_type": "display_data"
    },
    {
     "data": {
      "image/png": "[encoded data removed]",
      "text/plain": [
       "<Figure size 1008x288 with 2 Axes>"
      ]
     },
     "metadata": {
      "needs_background": "light"
     },
     "output_type": "display_data"
    },
    {
     "data": {
      "image/png": "[encoded data removed]",
      "text/plain": [
       "<Figure size 1008x288 with 2 Axes>"
      ]
     },
     "metadata": {
      "needs_background": "light"
     },
     "output_type": "display_data"
    },
    {
     "data": {
      "image/png": "[encoded data removed]",
      "text/plain": [
       "<Figure size 1008x288 with 2 Axes>"
      ]
     },
     "metadata": {
      "needs_background": "light"
     },
     "output_type": "display_data"
    }
   ],
   "source": [
    "for col in [\n",
    "    'regular_points_received', 'express_points_received',\n",
    "    'regular_points_spent', 'express_points_spent',\n",
    "    'purchase_sum',\n",
    "    # 'product_quantity', 'trn_sum_from_iss', 'trn_sum_from_red',\n",
    "]:\n",
    "    _, (ax0, ax1) = plt.subplots(1, 2, figsize=(14, 4))\n",
    "    df_trx[col].hist(ax=ax0)\n",
    "    (np.log1p(abs(df_trx[col])) * np.sign(df_trx[col])).hist(ax=ax1)\n",
    "    plt.suptitle(col)\n",
    "    plt.show()"
   ]
  },
  {
   "cell_type": "markdown",
   "metadata": {},
   "source": [
    "# Time periods"
   ]
  },
  {
   "cell_type": "code",
   "execution_count": 124,
   "metadata": {},
   "outputs": [],
   "source": [
    "# choose top N products and check it over time"
   ]
  },
  {
   "cell_type": "code",
   "execution_count": 138,
   "metadata": {},
   "outputs": [
    {
     "data": {
      "text/plain": [
       "['113e3ace79',\n",
       " '5645789fdf',\n",
       " '31dcf71bbd',\n",
       " 'dc2001d036',\n",
       " '0a46068efc',\n",
       " '343e841aaa',\n",
       " '439498bce2',\n",
       " '4a29330c8d',\n",
       " '5cb93c9bc5',\n",
       " 'f4599ca21a',\n",
       " '4dcf79043e',\n",
       " '3e038662c0',\n",
       " 'bf07df54e1',\n",
       " '15ccaa8685',\n",
       " '4009f09b04']"
      ]
     },
     "execution_count": 138,
     "metadata": {},
     "output_type": "execute_result"
    }
   ],
   "source": [
    "top_n_products = df_purchases.groupby('product_id')['transaction_id'].count().sort_values().iloc[-15:].index.tolist()\n",
    "top_n_products"
   ]
  },
  {
   "cell_type": "code",
   "execution_count": 139,
   "metadata": {},
   "outputs": [
    {
     "data": {
      "text/plain": [
       "<matplotlib.axes._subplots.AxesSubplot at 0x7fb49174f240>"
      ]
     },
     "execution_count": 139,
     "metadata": {},
     "output_type": "execute_result"
    },
    {
     "data": {
      "image/png": "[encoded data removed]",
      "text/plain": [
       "<Figure size 864x288 with 1 Axes>"
      ]
     },
     "metadata": {
      "needs_background": "light"
     },
     "output_type": "display_data"
    }
   ],
   "source": [
    "df_purchases[lambda x: x['product_id'].isin(top_n_products)] \\\n",
    "    .groupby(['transaction_month', 'product_id'])['transaction_id'].count().unstack() \\\n",
    "    .plot(figsize=(12, 4), kind='bar', legend=False)"
   ]
  },
  {
   "cell_type": "code",
   "execution_count": 194,
   "metadata": {},
   "outputs": [
    {
     "name": "stdout",
     "output_type": "stream",
     "text": [
      "84M\t../data/test_trx.parquet\r\n",
      "722M\t../data/train_trx.parquet\r\n"
     ]
    }
   ],
   "source": [
    "!du -sh ../data/*.parquet"
   ]
  },
  {
   "cell_type": "code",
   "execution_count": null,
   "metadata": {},
   "outputs": [],
   "source": []
  }
 ],
 "metadata": {
  "kernelspec": {
   "display_name": "Python (TDL)",
   "language": "python",
   "name": "tdl_env"
  },
  "language_info": {
   "codemirror_mode": {
    "name": "ipython",
    "version": 3
   },
   "file_extension": ".py",
   "mimetype": "text/x-python",
   "name": "python",
   "nbconvert_exporter": "python",
   "pygments_lexer": "ipython3",
   "version": "3.6.9"
  }
 },
 "nbformat": 4,
 "nbformat_minor": 4
}
